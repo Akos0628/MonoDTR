{
 "cells": [
  {
   "cell_type": "code",
   "execution_count": 4,
   "metadata": {},
   "outputs": [
    {
     "name": "stdout",
     "output_type": "stream",
     "text": [
      "Fájlnév: 000002.png\n",
      "Méret: (1382, 512)\n",
      "Mód: RGBA\n",
      "Formátum: PNG\n",
      "Mozgókép?: False\n",
      "Hiba történt: getcolor\n"
     ]
    }
   ],
   "source": [
    "from PIL import Image\n",
    "import os\n",
    "\n",
    "def get_image_info(image_path):\n",
    "    try:\n",
    "        # Kép megnyitása\n",
    "        img = Image.open(image_path)\n",
    "\n",
    "        # Alapvető információk kiírása\n",
    "        print(\"Fájlnév:\", os.path.basename(image_path))\n",
    "        print(\"Méret:\", img.size)\n",
    "        print(\"Mód:\", img.mode)\n",
    "\n",
    "        # Kép részleteinek kiírása\n",
    "        print(\"Formátum:\", img.format)\n",
    "        print(\"Mozgókép?:\", img.is_animated)\n",
    "        print(\"Színtér:\", img.getcolor())\n",
    "\n",
    "        # Kép metaadatok kiírása\n",
    "        metadata = img.info\n",
    "        print(\"Metaadatok:\")\n",
    "        for key, value in metadata.items():\n",
    "            print(f\"{key}: {value}\")\n",
    "\n",
    "        # Kép tárgyalása\n",
    "        if img.mode == 'P':\n",
    "            print(\"Palettás kép.\")\n",
    "            palette = img.getpalette()\n",
    "            print(\"Paletta:\", palette)\n",
    "        elif img.mode == 'RGBA':\n",
    "            print(\"Átlátszó hátterű kép.\")\n",
    "        elif img.mode == 'RGB':\n",
    "            print(\"RGB kép.\")\n",
    "        \n",
    "        # Kép tartalmának részletei\n",
    "        print(\"Kép adatok:\")\n",
    "        data = img.getdata()\n",
    "        for pixel in data[:10]:  # Csak az első 10 pixelt írjuk ki\n",
    "            print(pixel)\n",
    "\n",
    "    except Exception as e:\n",
    "        print(\"Hiba történt:\", e)\n",
    "\n",
    "if __name__ == \"__main__\":\n",
    "    #image_path = \"./data/KITTI/object/training/image_2/000000.png\"  # A kép elérési útját itt adhatod meg\n",
    "    image_path = \"./data/custom/merged2/training/image_2/000002.png\"  # A kép elérési útját itt adhatod meg\n",
    "    get_image_info(image_path)"
   ]
  }
 ],
 "metadata": {
  "kernelspec": {
   "display_name": "mono",
   "language": "python",
   "name": "python3"
  },
  "language_info": {
   "codemirror_mode": {
    "name": "ipython",
    "version": 3
   },
   "file_extension": ".py",
   "mimetype": "text/x-python",
   "name": "python",
   "nbconvert_exporter": "python",
   "pygments_lexer": "ipython3",
   "version": "3.7.12"
  }
 },
 "nbformat": 4,
 "nbformat_minor": 2
}
