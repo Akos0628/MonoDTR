{
 "cells": [
  {
   "cell_type": "markdown",
   "metadata": {},
   "source": [
    "Based on the demos from the visualDet3D project"
   ]
  },
  {
   "cell_type": "code",
   "execution_count": null,
   "metadata": {},
   "outputs": [],
   "source": [
    "import os\n",
    "import numpy as np\n",
    "import matplotlib.pyplot as plt\n",
    "import cv2\n",
    "import torch\n",
    "\n",
    "from visualDet3D.utils.utils import cfg_from_file\n",
    "from visualDet3D.networks.utils.registry import DETECTOR_DICT, DATASET_DICT\n",
    "from visualDet3D.networks.utils import BBox3dProjector, BackProjection\n",
    "from visualDet3D.utils.utils import draw_3D_box\n",
    "from visualDet3D.data.pipeline import build_augmentator\n",
    "import matplotlib.pyplot as plt\n",
    "print('CUDA available: {}'.format(torch.cuda.is_available()))\n",
    "\n",
    "cfg = cfg_from_file(\"./config/config.py\")\n",
    "\n",
    "checkpoint_name = cfg.path.pretrained_checkpoint"
   ]
  },
  {
   "cell_type": "code",
   "execution_count": null,
   "metadata": {},
   "outputs": [],
   "source": [
    "cfg.data.augmentation.mirrorProb = 0\n",
    "cfg.data.augmentation.distortProb = 0\n",
    "cfg.batch_size=1\n",
    "cfg.trainer.gpu=0\n",
    "cfg.detector.head.test_cfg.score_thr=0.3\n",
    "split_to_test='training'\n",
    "\n",
    "if split_to_test == 'training':\n",
    "    dataset_name = cfg.data.train_dataset\n",
    "elif split_to_test == 'test':\n",
    "    dataset_name = cfg.data.test_dataset\n",
    "else:\n",
    "    dataset_name = cfg.data.val_dataset\n",
    "\n",
    "dataset = DATASET_DICT[dataset_name](\n",
    "        cfg, split_to_test\n",
    "        )\n",
    "\n",
    "dataset.transform = build_augmentator(cfg.data.test_augmentation)\n",
    "detector = DETECTOR_DICT[cfg.detector.name](cfg.detector)\n",
    "detector = detector.cuda()\n",
    "\n",
    "weight_path = os.path.join(cfg.path.checkpoint_path, checkpoint_name)\n",
    "state_dict = torch.load(weight_path, map_location='cuda:{}'.format(cfg.trainer.gpu))\n",
    "detector.load_state_dict(state_dict, strict=False)\n",
    "detector.eval()\n",
    "\n",
    "# testing pipeline\n",
    "#test_func = PIPELINE_DICT[cfg.trainer.test_func]\n",
    "\n",
    "projector = BBox3dProjector().cuda()\n",
    "backprojector = BackProjection().cuda()"
   ]
  },
  {
   "cell_type": "code",
   "execution_count": null,
   "metadata": {},
   "outputs": [],
   "source": [
    "def draw_bbox2d_to_image(image, bboxes2d, color=(255, 0, 255)):\n",
    "    drawed_image = image.copy()\n",
    "    for box2d in bboxes2d:\n",
    "        cv2.rectangle(drawed_image, (int(box2d[0]), int(box2d[1])), (int(box2d[2]), int(box2d[3])), color, 3)\n",
    "    return drawed_image\n",
    "\n",
    "def corner_homo2bbox(corner_homo):\n",
    "    \"\"\"\n",
    "        corner_homo: [N, 8, 3]\n",
    "    \"\"\"\n",
    "    min_xy  = torch.min(corner_homo[:, :, 0:2], dim=1)[0]\n",
    "    max_xy  = torch.max(corner_homo[:, :, 0:2], dim=1)[0]\n",
    "    min_xy[:, 0]  = torch.clamp(min_xy[:, 0], 0, cfg.rgb_shape[1])\n",
    "    min_xy[:, 1]  = torch.clamp(min_xy[:, 1], 0, cfg.rgb_shape[0])\n",
    "    max_xy[:, 0]  = torch.clamp(max_xy[:, 0], 0, cfg.rgb_shape[1])\n",
    "    max_xy[:, 1]  = torch.clamp(max_xy[:, 1], 0, cfg.rgb_shape[0])\n",
    "    return torch.cat([min_xy, max_xy], dim=1)\n",
    "\n",
    "def denorm(image):\n",
    "    new_image = np.array((image * cfg.data.augmentation.rgb_std +  cfg.data.augmentation.rgb_mean) * 255, dtype=np.uint8)\n",
    "    return new_image"
   ]
  },
  {
   "cell_type": "code",
   "execution_count": null,
   "metadata": {},
   "outputs": [],
   "source": [
    "import time\n",
    "def compute_once(index, is_draw=True):\n",
    "    data = dataset[index]\n",
    "    if isinstance(data['calib'], list):\n",
    "        P2 = data['calib'][0]\n",
    "    else:\n",
    "        P2 = data['calib']\n",
    "    collated_data = dataset.collate_fn([data])\n",
    "    image = collated_data[0]\n",
    "\n",
    "    with torch.no_grad():\n",
    "        image = collated_data[0]\n",
    "        P2 = collated_data[1]\n",
    "        \n",
    "        torch.cuda.synchronize() # Wait for all kernels in all streams on a CUDA device to complete.\n",
    "        start_time = time.time()\n",
    "        scores, bbox, obj_names = detector([image.cuda().contiguous(), P2.cuda().contiguous()])\n",
    "        torch.cuda.synchronize() # Wait for all kernels in all streams on a CUDA device to complete.\n",
    "        end_time = time.time()\n",
    "        print(end_time - start_time)\n",
    "        \n",
    "\n",
    "    if is_draw:\n",
    "        rgb_image = denorm(image.squeeze().permute(1, 2, 0).numpy())\n",
    "        \n",
    "        P2 = P2[0]\n",
    "        bbox_2d = bbox[:, 0:4]\n",
    "        bbox_3d_state = bbox[:, 4:] #[cx,cy,z,w,h,l,alpha]\n",
    "        \n",
    "        \n",
    "        bbox_3d_state_3d = backprojector(bbox_3d_state, P2.cuda()) #[x, y, z, w, h ,l, alpha]\n",
    "        #bbox_3d_state_3d = torch.cat([position, dims, alpha], dim=1)\n",
    "        print(bbox_3d_state_3d[:, 0:3])\n",
    "        _, bbox_3d_corner_homo, _ = projector(bbox_3d_state_3d, P2.cuda())\n",
    "        \n",
    "        if len(scores) > 0:\n",
    "            rgb_image = draw_bbox2d_to_image(rgb_image, bbox_2d.cpu().numpy())\n",
    "        for box in bbox_3d_corner_homo:\n",
    "            box = box.cpu().numpy().T\n",
    "            rgb_image = draw_3D_box(rgb_image, box)\n",
    "          \n",
    "        \n",
    "        plt.imshow(rgb_image)\n",
    "        \n",
    "    return rgb_image, scores, bbox\n",
    "    "
   ]
  },
  {
   "cell_type": "code",
   "execution_count": null,
   "metadata": {},
   "outputs": [],
   "source": [
    "index = 0"
   ]
  },
  {
   "cell_type": "code",
   "execution_count": null,
   "metadata": {},
   "outputs": [],
   "source": [
    "%matplotlib inline\n",
    "print(index)\n",
    "fig = plt.figure(figsize=(16,9))\n",
    "_ = compute_once(index)\n",
    "plt.show()\n",
    "index+=1"
   ]
  }
 ],
 "metadata": {
  "kernelspec": {
   "display_name": "Python 3",
   "language": "python",
   "name": "python3"
  },
  "language_info": {
   "codemirror_mode": {
    "name": "ipython",
    "version": 3
   },
   "file_extension": ".py",
   "mimetype": "text/x-python",
   "name": "python",
   "nbconvert_exporter": "python",
   "pygments_lexer": "ipython3",
   "version": "3.7.12"
  }
 },
 "nbformat": 4,
 "nbformat_minor": 4
}
